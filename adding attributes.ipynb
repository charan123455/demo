{
 "cells": [
  {
   "cell_type": "code",
   "execution_count": 2,
   "id": "3a5402b1",
   "metadata": {},
   "outputs": [
    {
     "name": "stdout",
     "output_type": "stream",
     "text": [
      "        date    event   cost\n",
      "0  10-2-2011    music  10000\n",
      "1    11-2-21   poetry   5000\n",
      "2    12-2-21  theatre  15000\n",
      "3    13-2-11   comedy   2000\n"
     ]
    }
   ],
   "source": [
    "import pandas as pd\n",
    "df=pd.DataFrame({'date':['10-2-2011','11-2-21','12-2-21','13-2-11'],\n",
    "                'event':['music','poetry','theatre','comedy'],\n",
    "                'cost':[10000,5000,15000,2000]})\n",
    "print(df)"
   ]
  },
  {
   "cell_type": "code",
   "execution_count": 9,
   "id": "4adfe63f",
   "metadata": {},
   "outputs": [
    {
     "name": "stdout",
     "output_type": "stream",
     "text": [
      "        date    event   cost  discounted_price\n",
      "0  10-2-2011    music  10000            8000.0\n",
      "1    11-2-21   poetry   5000            4000.0\n",
      "2    12-2-21  theatre  15000           12000.0\n",
      "3    13-2-11   comedy   2000            1600.0\n"
     ]
    }
   ],
   "source": [
    "df['discounted_price']=df.apply(lambda a:a.cost-(a.cost*0.2),axis=1)\n",
    "print(df)"
   ]
  },
  {
   "cell_type": "code",
   "execution_count": null,
   "id": "0c29fa59",
   "metadata": {},
   "outputs": [],
   "source": []
  },
  {
   "cell_type": "code",
   "execution_count": null,
   "id": "9c63950c",
   "metadata": {},
   "outputs": [],
   "source": []
  },
  {
   "cell_type": "code",
   "execution_count": null,
   "id": "22e2ebef",
   "metadata": {},
   "outputs": [],
   "source": []
  }
 ],
 "metadata": {
  "kernelspec": {
   "display_name": "Python 3 (ipykernel)",
   "language": "python",
   "name": "python3"
  },
  "language_info": {
   "codemirror_mode": {
    "name": "ipython",
    "version": 3
   },
   "file_extension": ".py",
   "mimetype": "text/x-python",
   "name": "python",
   "nbconvert_exporter": "python",
   "pygments_lexer": "ipython3",
   "version": "3.11.4"
  }
 },
 "nbformat": 4,
 "nbformat_minor": 5
}
